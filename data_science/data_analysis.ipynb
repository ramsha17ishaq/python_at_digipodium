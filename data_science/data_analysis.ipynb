{
 "cells": [
  {
   "cell_type": "code",
   "execution_count": 54,
   "metadata": {},
   "outputs": [],
   "source": [
    "import numpy as np\n",
    "import pandas as pd"
   ]
  },
  {
   "cell_type": "code",
   "execution_count": 55,
   "metadata": {},
   "outputs": [
    {
     "name": "stdout",
     "output_type": "stream",
     "text": [
      "[1 2 3 4 5]\n"
     ]
    }
   ],
   "source": [
    "x = [1,2,3,4,5]\n",
    "nx = np.array(x)\n",
    "print(nx)"
   ]
  },
  {
   "cell_type": "code",
   "execution_count": 56,
   "metadata": {},
   "outputs": [
    {
     "name": "stdout",
     "output_type": "stream",
     "text": [
      "(5,)\n"
     ]
    }
   ],
   "source": [
    "print(nx.shape)"
   ]
  },
  {
   "cell_type": "code",
   "execution_count": 57,
   "metadata": {},
   "outputs": [
    {
     "name": "stdout",
     "output_type": "stream",
     "text": [
      "[[1 2 3]\n",
      " [4 5 6]]\n"
     ]
    }
   ],
   "source": [
    "ny = np.array([[1,2,3],[4,5,6]])\n",
    "print(ny)"
   ]
  },
  {
   "cell_type": "code",
   "execution_count": 58,
   "metadata": {},
   "outputs": [
    {
     "name": "stdout",
     "output_type": "stream",
     "text": [
      "(2, 3)\n"
     ]
    }
   ],
   "source": [
    "print(ny.shape)"
   ]
  },
  {
   "cell_type": "code",
   "execution_count": 59,
   "metadata": {},
   "outputs": [
    {
     "data": {
      "text/plain": [
       "array([ 1. ,  1.2,  1.4,  1.6,  1.8,  2. ,  2.2,  2.4,  2.6,  2.8,  3. ,\n",
       "        3.2,  3.4,  3.6,  3.8,  4. ,  4.2,  4.4,  4.6,  4.8,  5. ,  5.2,\n",
       "        5.4,  5.6,  5.8,  6. ,  6.2,  6.4,  6.6,  6.8,  7. ,  7.2,  7.4,\n",
       "        7.6,  7.8,  8. ,  8.2,  8.4,  8.6,  8.8,  9. ,  9.2,  9.4,  9.6,\n",
       "        9.8, 10. , 10.2, 10.4, 10.6, 10.8, 11. , 11.2, 11.4, 11.6, 11.8,\n",
       "       12. , 12.2, 12.4, 12.6, 12.8, 13. , 13.2, 13.4, 13.6, 13.8, 14. ,\n",
       "       14.2, 14.4, 14.6, 14.8, 15. , 15.2, 15.4, 15.6, 15.8, 16. , 16.2,\n",
       "       16.4, 16.6, 16.8, 17. , 17.2, 17.4, 17.6, 17.8, 18. , 18.2, 18.4,\n",
       "       18.6, 18.8, 19. , 19.2, 19.4, 19.6, 19.8, 20. , 20.2, 20.4, 20.6,\n",
       "       20.8, 21. , 21.2, 21.4, 21.6, 21.8, 22. , 22.2, 22.4, 22.6, 22.8,\n",
       "       23. , 23.2, 23.4, 23.6, 23.8, 24. , 24.2, 24.4, 24.6, 24.8, 25. ,\n",
       "       25.2, 25.4, 25.6, 25.8, 26. , 26.2, 26.4, 26.6, 26.8, 27. , 27.2,\n",
       "       27.4, 27.6, 27.8, 28. , 28.2, 28.4, 28.6, 28.8, 29. , 29.2, 29.4,\n",
       "       29.6, 29.8, 30. , 30.2, 30.4, 30.6, 30.8, 31. , 31.2, 31.4, 31.6,\n",
       "       31.8, 32. , 32.2, 32.4, 32.6, 32.8, 33. , 33.2, 33.4, 33.6, 33.8,\n",
       "       34. , 34.2, 34.4, 34.6, 34.8, 35. , 35.2, 35.4, 35.6, 35.8, 36. ,\n",
       "       36.2, 36.4, 36.6, 36.8, 37. , 37.2, 37.4, 37.6, 37.8, 38. , 38.2,\n",
       "       38.4, 38.6, 38.8, 39. , 39.2, 39.4, 39.6, 39.8, 40. , 40.2, 40.4,\n",
       "       40.6, 40.8, 41. , 41.2, 41.4, 41.6, 41.8, 42. , 42.2, 42.4, 42.6,\n",
       "       42.8, 43. , 43.2, 43.4, 43.6, 43.8, 44. , 44.2, 44.4, 44.6, 44.8,\n",
       "       45. , 45.2, 45.4, 45.6, 45.8, 46. , 46.2, 46.4, 46.6, 46.8, 47. ,\n",
       "       47.2, 47.4, 47.6, 47.8, 48. , 48.2, 48.4, 48.6, 48.8, 49. , 49.2,\n",
       "       49.4, 49.6, 49.8, 50. , 50.2, 50.4, 50.6, 50.8, 51. , 51.2, 51.4,\n",
       "       51.6, 51.8, 52. , 52.2, 52.4, 52.6, 52.8, 53. , 53.2, 53.4, 53.6,\n",
       "       53.8, 54. , 54.2, 54.4, 54.6, 54.8, 55. , 55.2, 55.4, 55.6, 55.8,\n",
       "       56. , 56.2, 56.4, 56.6, 56.8, 57. , 57.2, 57.4, 57.6, 57.8, 58. ,\n",
       "       58.2, 58.4, 58.6, 58.8, 59. , 59.2, 59.4, 59.6, 59.8, 60. , 60.2,\n",
       "       60.4, 60.6, 60.8, 61. , 61.2, 61.4, 61.6, 61.8, 62. , 62.2, 62.4,\n",
       "       62.6, 62.8, 63. , 63.2, 63.4, 63.6, 63.8, 64. , 64.2, 64.4, 64.6,\n",
       "       64.8, 65. , 65.2, 65.4, 65.6, 65.8, 66. , 66.2, 66.4, 66.6, 66.8,\n",
       "       67. , 67.2, 67.4, 67.6, 67.8, 68. , 68.2, 68.4, 68.6, 68.8, 69. ,\n",
       "       69.2, 69.4, 69.6, 69.8, 70. , 70.2, 70.4, 70.6, 70.8, 71. , 71.2,\n",
       "       71.4, 71.6, 71.8, 72. , 72.2, 72.4, 72.6, 72.8, 73. , 73.2, 73.4,\n",
       "       73.6, 73.8, 74. , 74.2, 74.4, 74.6, 74.8, 75. , 75.2, 75.4, 75.6,\n",
       "       75.8, 76. , 76.2, 76.4, 76.6, 76.8, 77. , 77.2, 77.4, 77.6, 77.8,\n",
       "       78. , 78.2, 78.4, 78.6, 78.8, 79. , 79.2, 79.4, 79.6, 79.8, 80. ,\n",
       "       80.2, 80.4, 80.6, 80.8, 81. , 81.2, 81.4, 81.6, 81.8, 82. , 82.2,\n",
       "       82.4, 82.6, 82.8, 83. , 83.2, 83.4, 83.6, 83.8, 84. , 84.2, 84.4,\n",
       "       84.6, 84.8, 85. , 85.2, 85.4, 85.6, 85.8, 86. , 86.2, 86.4, 86.6,\n",
       "       86.8, 87. , 87.2, 87.4, 87.6, 87.8, 88. , 88.2, 88.4, 88.6, 88.8,\n",
       "       89. , 89.2, 89.4, 89.6, 89.8, 90. , 90.2, 90.4, 90.6, 90.8, 91. ,\n",
       "       91.2, 91.4, 91.6, 91.8, 92. , 92.2, 92.4, 92.6, 92.8, 93. , 93.2,\n",
       "       93.4, 93.6, 93.8, 94. , 94.2, 94.4, 94.6, 94.8, 95. , 95.2, 95.4,\n",
       "       95.6, 95.8, 96. , 96.2, 96.4, 96.6, 96.8, 97. , 97.2, 97.4, 97.6,\n",
       "       97.8, 98. , 98.2, 98.4, 98.6, 98.8, 99. , 99.2, 99.4, 99.6, 99.8])"
      ]
     },
     "execution_count": 59,
     "metadata": {},
     "output_type": "execute_result"
    }
   ],
   "source": [
    "one = np.arange(1,100,0.2)\n",
    "one"
   ]
  },
  {
   "cell_type": "code",
   "execution_count": 60,
   "metadata": {},
   "outputs": [
    {
     "name": "stdout",
     "output_type": "stream",
     "text": [
      "495\n"
     ]
    }
   ],
   "source": [
    "print(one.size)"
   ]
  },
  {
   "cell_type": "code",
   "execution_count": 61,
   "metadata": {},
   "outputs": [
    {
     "data": {
      "text/plain": [
       "array([  0.        ,   0.50251256,   1.00502513,   1.50753769,\n",
       "         2.01005025,   2.51256281,   3.01507538,   3.51758794,\n",
       "         4.0201005 ,   4.52261307,   5.02512563,   5.52763819,\n",
       "         6.03015075,   6.53266332,   7.03517588,   7.53768844,\n",
       "         8.04020101,   8.54271357,   9.04522613,   9.54773869,\n",
       "        10.05025126,  10.55276382,  11.05527638,  11.55778894,\n",
       "        12.06030151,  12.56281407,  13.06532663,  13.5678392 ,\n",
       "        14.07035176,  14.57286432,  15.07537688,  15.57788945,\n",
       "        16.08040201,  16.58291457,  17.08542714,  17.5879397 ,\n",
       "        18.09045226,  18.59296482,  19.09547739,  19.59798995,\n",
       "        20.10050251,  20.60301508,  21.10552764,  21.6080402 ,\n",
       "        22.11055276,  22.61306533,  23.11557789,  23.61809045,\n",
       "        24.12060302,  24.62311558,  25.12562814,  25.6281407 ,\n",
       "        26.13065327,  26.63316583,  27.13567839,  27.63819095,\n",
       "        28.14070352,  28.64321608,  29.14572864,  29.64824121,\n",
       "        30.15075377,  30.65326633,  31.15577889,  31.65829146,\n",
       "        32.16080402,  32.66331658,  33.16582915,  33.66834171,\n",
       "        34.17085427,  34.67336683,  35.1758794 ,  35.67839196,\n",
       "        36.18090452,  36.68341709,  37.18592965,  37.68844221,\n",
       "        38.19095477,  38.69346734,  39.1959799 ,  39.69849246,\n",
       "        40.20100503,  40.70351759,  41.20603015,  41.70854271,\n",
       "        42.21105528,  42.71356784,  43.2160804 ,  43.71859296,\n",
       "        44.22110553,  44.72361809,  45.22613065,  45.72864322,\n",
       "        46.23115578,  46.73366834,  47.2361809 ,  47.73869347,\n",
       "        48.24120603,  48.74371859,  49.24623116,  49.74874372,\n",
       "        50.25125628,  50.75376884,  51.25628141,  51.75879397,\n",
       "        52.26130653,  52.7638191 ,  53.26633166,  53.76884422,\n",
       "        54.27135678,  54.77386935,  55.27638191,  55.77889447,\n",
       "        56.28140704,  56.7839196 ,  57.28643216,  57.78894472,\n",
       "        58.29145729,  58.79396985,  59.29648241,  59.79899497,\n",
       "        60.30150754,  60.8040201 ,  61.30653266,  61.80904523,\n",
       "        62.31155779,  62.81407035,  63.31658291,  63.81909548,\n",
       "        64.32160804,  64.8241206 ,  65.32663317,  65.82914573,\n",
       "        66.33165829,  66.83417085,  67.33668342,  67.83919598,\n",
       "        68.34170854,  68.84422111,  69.34673367,  69.84924623,\n",
       "        70.35175879,  70.85427136,  71.35678392,  71.85929648,\n",
       "        72.36180905,  72.86432161,  73.36683417,  73.86934673,\n",
       "        74.3718593 ,  74.87437186,  75.37688442,  75.87939698,\n",
       "        76.38190955,  76.88442211,  77.38693467,  77.88944724,\n",
       "        78.3919598 ,  78.89447236,  79.39698492,  79.89949749,\n",
       "        80.40201005,  80.90452261,  81.40703518,  81.90954774,\n",
       "        82.4120603 ,  82.91457286,  83.41708543,  83.91959799,\n",
       "        84.42211055,  84.92462312,  85.42713568,  85.92964824,\n",
       "        86.4321608 ,  86.93467337,  87.43718593,  87.93969849,\n",
       "        88.44221106,  88.94472362,  89.44723618,  89.94974874,\n",
       "        90.45226131,  90.95477387,  91.45728643,  91.95979899,\n",
       "        92.46231156,  92.96482412,  93.46733668,  93.96984925,\n",
       "        94.47236181,  94.97487437,  95.47738693,  95.9798995 ,\n",
       "        96.48241206,  96.98492462,  97.48743719,  97.98994975,\n",
       "        98.49246231,  98.99497487,  99.49748744, 100.        ])"
      ]
     },
     "execution_count": 61,
     "metadata": {},
     "output_type": "execute_result"
    }
   ],
   "source": [
    "two = np.linspace(0,100,200)\n",
    "two"
   ]
  },
  {
   "cell_type": "code",
   "execution_count": 62,
   "metadata": {},
   "outputs": [
    {
     "data": {
      "text/plain": [
       "array([3.28525060e-01, 6.94957773e-01, 1.63219208e-01, 2.68287857e-01,\n",
       "       2.02081608e-01, 9.78442173e-01, 1.24403596e-01, 8.05344645e-01,\n",
       "       7.64727013e-01, 4.83375656e-01, 5.11966719e-01, 3.50703801e-01,\n",
       "       1.03130775e-01, 9.26556045e-01, 2.62096185e-01, 6.86413709e-01,\n",
       "       1.80860755e-01, 9.40866062e-01, 4.94575225e-01, 1.00390652e-01,\n",
       "       2.22947607e-02, 2.39899667e-01, 8.60124982e-01, 3.84737662e-01,\n",
       "       5.03436395e-01, 2.81470348e-01, 4.39880574e-01, 4.56141272e-01,\n",
       "       2.92238518e-01, 2.40380839e-02, 6.35539752e-01, 1.49402989e-01,\n",
       "       5.41582783e-01, 2.48507828e-01, 7.26065030e-01, 2.32344146e-01,\n",
       "       5.05059006e-01, 2.73761121e-01, 1.37908886e-01, 9.97628118e-01,\n",
       "       8.09570456e-01, 3.93783855e-01, 8.36100964e-01, 7.46289640e-01,\n",
       "       9.35744399e-02, 4.68244962e-02, 6.03115453e-01, 3.55752036e-01,\n",
       "       4.92248707e-01, 8.50695547e-02, 6.45777611e-01, 9.80358337e-01,\n",
       "       1.36953650e-01, 6.65780164e-01, 7.31917509e-01, 3.98014733e-01,\n",
       "       2.70649395e-01, 1.53841350e-01, 8.68971813e-01, 4.02678766e-01,\n",
       "       6.43376043e-01, 1.52739114e-01, 5.95934918e-01, 3.31956792e-01,\n",
       "       7.23263473e-01, 5.83793953e-02, 3.65181152e-01, 2.69240657e-01,\n",
       "       8.15155963e-02, 7.95984688e-01, 3.79539867e-01, 1.37675054e-01,\n",
       "       6.83142156e-02, 9.65105202e-01, 8.25173494e-01, 2.06489978e-01,\n",
       "       6.18188462e-02, 3.58779417e-01, 3.31709460e-01, 8.59743029e-01,\n",
       "       6.86422177e-02, 6.29761192e-01, 7.61979258e-01, 3.60365176e-01,\n",
       "       7.62999383e-02, 2.21317574e-01, 1.06347786e-01, 7.04525400e-04,\n",
       "       5.41566126e-01, 1.67148117e-01, 4.77082745e-01, 1.14959092e-01,\n",
       "       6.30678159e-01, 4.01579440e-01, 5.32959058e-01, 1.01584438e-01,\n",
       "       6.75071394e-01, 8.21747756e-01, 9.89346415e-01, 3.76271765e-01])"
      ]
     },
     "execution_count": 62,
     "metadata": {},
     "output_type": "execute_result"
    }
   ],
   "source": [
    "n3 = np.random.rand(100)\n",
    "n3"
   ]
  },
  {
   "cell_type": "code",
   "execution_count": 63,
   "metadata": {},
   "outputs": [
    {
     "data": {
      "text/plain": [
       "array([6, 1, 7, 2, 9, 1, 3, 3, 5, 7, 6, 4, 9, 4, 3, 1, 8, 9, 9, 2, 2, 8,\n",
       "       6, 4, 5, 8, 8, 6, 9, 9, 4, 2, 7, 9, 3, 8, 8, 6, 5, 5, 8, 1, 3, 5,\n",
       "       7, 5, 1, 4, 8, 7, 2, 3, 4, 9, 3, 3, 1, 6, 7, 4, 2, 8, 8, 4, 4, 7,\n",
       "       7, 8, 9, 6, 1, 8, 6, 7, 7, 1, 4, 2, 5, 2, 6, 8, 1, 9, 2, 5, 5, 6,\n",
       "       1, 1, 6, 3, 4, 5, 8, 7, 2, 5, 8, 2])"
      ]
     },
     "execution_count": 63,
     "metadata": {},
     "output_type": "execute_result"
    }
   ],
   "source": [
    "n4 = np.random.randint(1,10,100)\n",
    "n4"
   ]
  },
  {
   "cell_type": "code",
   "execution_count": 64,
   "metadata": {},
   "outputs": [
    {
     "data": {
      "text/plain": [
       "array([[6, 1, 7, 2, 9, 1, 3, 3, 5, 7],\n",
       "       [6, 4, 9, 4, 3, 1, 8, 9, 9, 2],\n",
       "       [2, 8, 6, 4, 5, 8, 8, 6, 9, 9],\n",
       "       [4, 2, 7, 9, 3, 8, 8, 6, 5, 5],\n",
       "       [8, 1, 3, 5, 7, 5, 1, 4, 8, 7],\n",
       "       [2, 3, 4, 9, 3, 3, 1, 6, 7, 4],\n",
       "       [2, 8, 8, 4, 4, 7, 7, 8, 9, 6],\n",
       "       [1, 8, 6, 7, 7, 1, 4, 2, 5, 2],\n",
       "       [6, 8, 1, 9, 2, 5, 5, 6, 1, 1],\n",
       "       [6, 3, 4, 5, 8, 7, 2, 5, 8, 2]])"
      ]
     },
     "execution_count": 64,
     "metadata": {},
     "output_type": "execute_result"
    }
   ],
   "source": [
    "n4.reshape((10,10))"
   ]
  },
  {
   "cell_type": "code",
   "execution_count": 65,
   "metadata": {},
   "outputs": [
    {
     "data": {
      "text/plain": [
       "array([[6, 1, 7, 2],\n",
       "       [9, 1, 3, 3],\n",
       "       [5, 7, 6, 4],\n",
       "       [9, 4, 3, 1],\n",
       "       [8, 9, 9, 2],\n",
       "       [2, 8, 6, 4],\n",
       "       [5, 8, 8, 6],\n",
       "       [9, 9, 4, 2],\n",
       "       [7, 9, 3, 8],\n",
       "       [8, 6, 5, 5],\n",
       "       [8, 1, 3, 5],\n",
       "       [7, 5, 1, 4],\n",
       "       [8, 7, 2, 3],\n",
       "       [4, 9, 3, 3],\n",
       "       [1, 6, 7, 4],\n",
       "       [2, 8, 8, 4],\n",
       "       [4, 7, 7, 8],\n",
       "       [9, 6, 1, 8],\n",
       "       [6, 7, 7, 1],\n",
       "       [4, 2, 5, 2],\n",
       "       [6, 8, 1, 9],\n",
       "       [2, 5, 5, 6],\n",
       "       [1, 1, 6, 3],\n",
       "       [4, 5, 8, 7],\n",
       "       [2, 5, 8, 2]])"
      ]
     },
     "execution_count": 65,
     "metadata": {},
     "output_type": "execute_result"
    }
   ],
   "source": [
    "n5 = n4.reshape((25,4))\n",
    "n5"
   ]
  },
  {
   "cell_type": "code",
   "execution_count": 66,
   "metadata": {},
   "outputs": [],
   "source": [
    "n1 = np.random.randint(1,10,(5,5))\n",
    "n2 = np.random.randint(1,10,(5,5))"
   ]
  },
  {
   "cell_type": "code",
   "execution_count": 67,
   "metadata": {},
   "outputs": [
    {
     "data": {
      "text/plain": [
       "array([[ 2, 13, 13, 16, 12],\n",
       "       [ 9,  4,  8, 16,  5],\n",
       "       [15, 15,  2, 13, 14],\n",
       "       [10,  9, 12,  7,  4],\n",
       "       [15,  6,  7, 11, 11]])"
      ]
     },
     "execution_count": 67,
     "metadata": {},
     "output_type": "execute_result"
    }
   ],
   "source": [
    "n1 + n2"
   ]
  },
  {
   "cell_type": "code",
   "execution_count": 68,
   "metadata": {},
   "outputs": [
    {
     "data": {
      "text/plain": [
       "array([[ 0, -3,  3, -2,  4],\n",
       "       [-3, -2,  0,  0,  1],\n",
       "       [-1, -3,  0, -5,  0],\n",
       "       [-2,  7,  2,  5, -2],\n",
       "       [ 3,  2, -1, -3, -1]])"
      ]
     },
     "execution_count": 68,
     "metadata": {},
     "output_type": "execute_result"
    }
   ],
   "source": [
    "n1 - n2"
   ]
  },
  {
   "cell_type": "code",
   "execution_count": 69,
   "metadata": {},
   "outputs": [
    {
     "data": {
      "text/plain": [
       "array([[1.        , 0.625     , 1.6       , 0.77777778, 2.        ],\n",
       "       [0.5       , 0.33333333, 1.        , 1.        , 1.5       ],\n",
       "       [0.875     , 0.66666667, 1.        , 0.44444444, 1.        ],\n",
       "       [0.66666667, 8.        , 1.4       , 6.        , 0.33333333],\n",
       "       [1.5       , 2.        , 0.75      , 0.57142857, 0.83333333]])"
      ]
     },
     "execution_count": 69,
     "metadata": {},
     "output_type": "execute_result"
    }
   ],
   "source": [
    "n1 / n2"
   ]
  },
  {
   "cell_type": "code",
   "execution_count": 70,
   "metadata": {},
   "outputs": [
    {
     "data": {
      "text/plain": [
       "array([[       1,   390625,    32768, 40353607,     4096],\n",
       "       [     729,        1,      256, 16777216,        9],\n",
       "       [ 5764801, 10077696,        1,   262144,   823543],\n",
       "       [    4096,        8,    16807,        6,        1],\n",
       "       [  531441,       16,       81,    16384,    15625]])"
      ]
     },
     "execution_count": 70,
     "metadata": {},
     "output_type": "execute_result"
    }
   ],
   "source": [
    "n1 ** n2"
   ]
  },
  {
   "cell_type": "code",
   "execution_count": 71,
   "metadata": {},
   "outputs": [
    {
     "data": {
      "text/plain": [
       "array([[   1,  625, 4096, 2401, 4096],\n",
       "       [  81,    1,  256, 4096,   81],\n",
       "       [2401, 1296,    1,  256, 2401],\n",
       "       [ 256, 4096, 2401, 1296,    1],\n",
       "       [6561,  256,   81,  256,  625]], dtype=int32)"
      ]
     },
     "execution_count": 71,
     "metadata": {},
     "output_type": "execute_result"
    }
   ],
   "source": [
    "n1 ** 4"
   ]
  },
  {
   "cell_type": "code",
   "execution_count": 72,
   "metadata": {},
   "outputs": [
    {
     "data": {
      "text/plain": [
       "array([[11, 15, 18, 17, 18],\n",
       "       [13, 11, 14, 18, 13],\n",
       "       [17, 16, 11, 14, 17],\n",
       "       [14, 18, 17, 16, 11],\n",
       "       [19, 14, 13, 14, 15]])"
      ]
     },
     "execution_count": 72,
     "metadata": {},
     "output_type": "execute_result"
    }
   ],
   "source": [
    "n1 + 10"
   ]
  },
  {
   "cell_type": "code",
   "execution_count": 73,
   "metadata": {},
   "outputs": [
    {
     "data": {
      "text/plain": [
       "array([[185, 118, 100, 184, 139],\n",
       "       [107,  77,  75, 100,  84],\n",
       "       [117, 101, 108, 173, 101],\n",
       "       [150, 127,  93, 176, 105],\n",
       "       [111, 125, 104, 179, 107]])"
      ]
     },
     "execution_count": 73,
     "metadata": {},
     "output_type": "execute_result"
    }
   ],
   "source": [
    "n1.dot(n2)"
   ]
  },
  {
   "cell_type": "code",
   "execution_count": 74,
   "metadata": {},
   "outputs": [
    {
     "data": {
      "text/plain": [
       "array([[ 1, 40, 40, 63, 32],\n",
       "       [18,  3, 16, 64,  6],\n",
       "       [56, 54,  1, 36, 49],\n",
       "       [24,  8, 35,  6,  3],\n",
       "       [54,  8, 12, 28, 30]])"
      ]
     },
     "execution_count": 74,
     "metadata": {},
     "output_type": "execute_result"
    }
   ],
   "source": [
    "n1 * n2"
   ]
  },
  {
   "cell_type": "code",
   "execution_count": 75,
   "metadata": {},
   "outputs": [
    {
     "data": {
      "text/plain": [
       "(array([[1, 5, 8, 7, 8],\n",
       "        [3, 1, 4, 8, 3],\n",
       "        [7, 6, 1, 4, 7],\n",
       "        [4, 8, 7, 6, 1],\n",
       "        [9, 4, 3, 4, 5]]),\n",
       " array([[1, 8, 5, 9, 4],\n",
       "        [6, 3, 4, 8, 2],\n",
       "        [8, 9, 1, 9, 7],\n",
       "        [6, 1, 5, 1, 3],\n",
       "        [6, 2, 4, 7, 6]]))"
      ]
     },
     "execution_count": 75,
     "metadata": {},
     "output_type": "execute_result"
    }
   ],
   "source": [
    "n1 , n2"
   ]
  },
  {
   "cell_type": "code",
   "execution_count": 76,
   "metadata": {},
   "outputs": [
    {
     "data": {
      "text/plain": [
       "array([[0, 5, 3, 7, 0],\n",
       "       [3, 1, 0, 0, 1],\n",
       "       [7, 6, 0, 4, 0],\n",
       "       [4, 0, 2, 0, 1],\n",
       "       [3, 0, 3, 4, 5]])"
      ]
     },
     "execution_count": 76,
     "metadata": {},
     "output_type": "execute_result"
    }
   ],
   "source": [
    "n1 % n2"
   ]
  },
  {
   "cell_type": "code",
   "execution_count": 77,
   "metadata": {},
   "outputs": [
    {
     "data": {
      "text/plain": [
       "array([4, 9, 8, 1, 7, 3, 6, 3, 2, 4])"
      ]
     },
     "execution_count": 77,
     "metadata": {},
     "output_type": "execute_result"
    }
   ],
   "source": [
    "n6 = np.random.randint(1,10,10)\n",
    "n6"
   ]
  },
  {
   "cell_type": "code",
   "execution_count": 78,
   "metadata": {},
   "outputs": [
    {
     "data": {
      "text/plain": [
       "4"
      ]
     },
     "execution_count": 78,
     "metadata": {},
     "output_type": "execute_result"
    }
   ],
   "source": [
    "n6[0]"
   ]
  },
  {
   "cell_type": "code",
   "execution_count": 79,
   "metadata": {},
   "outputs": [
    {
     "data": {
      "text/plain": [
       "9"
      ]
     },
     "execution_count": 79,
     "metadata": {},
     "output_type": "execute_result"
    }
   ],
   "source": [
    "n6[1]"
   ]
  },
  {
   "cell_type": "code",
   "execution_count": 80,
   "metadata": {},
   "outputs": [
    {
     "data": {
      "text/plain": [
       "4"
      ]
     },
     "execution_count": 80,
     "metadata": {},
     "output_type": "execute_result"
    }
   ],
   "source": [
    "n6[-1]"
   ]
  },
  {
   "cell_type": "code",
   "execution_count": 81,
   "metadata": {},
   "outputs": [
    {
     "data": {
      "text/plain": [
       "array([4, 9, 8, 1, 7])"
      ]
     },
     "execution_count": 81,
     "metadata": {},
     "output_type": "execute_result"
    }
   ],
   "source": [
    "n6[:5]"
   ]
  },
  {
   "cell_type": "code",
   "execution_count": 82,
   "metadata": {},
   "outputs": [
    {
     "data": {
      "text/plain": [
       "array([3, 6, 3, 2, 4])"
      ]
     },
     "execution_count": 82,
     "metadata": {},
     "output_type": "execute_result"
    }
   ],
   "source": [
    "n6[5:]"
   ]
  },
  {
   "cell_type": "code",
   "execution_count": 83,
   "metadata": {},
   "outputs": [
    {
     "data": {
      "text/plain": [
       "array([6, 1, 7, 2, 9, 1, 3, 3, 5, 7, 6, 4, 9, 4, 3, 1, 8, 9, 9, 2, 2, 8,\n",
       "       6, 4, 5, 8, 8, 6, 9, 9, 4, 2, 7, 9, 3, 8, 8, 6, 5, 5, 8, 1, 3, 5,\n",
       "       7, 5, 1, 4, 8, 7, 2, 3, 4, 9, 3, 3, 1, 6, 7, 4, 2, 8, 8, 4, 4, 7,\n",
       "       7, 8, 9, 6, 1, 8, 6, 7, 7, 1, 4, 2, 5, 2, 6, 8, 1, 9, 2, 5, 5, 6,\n",
       "       1, 1, 6, 3, 4, 5, 8, 7, 2, 5, 8, 2])"
      ]
     },
     "execution_count": 83,
     "metadata": {},
     "output_type": "execute_result"
    }
   ],
   "source": [
    "# flatten a n dimensional matrix to 1 dimensional matrix\n",
    "n5.flatten()"
   ]
  },
  {
   "cell_type": "code",
   "execution_count": 84,
   "metadata": {},
   "outputs": [
    {
     "data": {
      "text/plain": [
       "array([6, 1, 7, 2, 9, 1, 3, 3, 5, 7, 6, 4, 9, 4, 3, 1, 8, 9, 9, 2, 2, 8,\n",
       "       6, 4, 5, 8, 8, 6, 9, 9, 4, 2, 7, 9, 3, 8, 8, 6, 5, 5, 8, 1, 3, 5,\n",
       "       7, 5, 1, 4, 8, 7, 2, 3, 4, 9, 3, 3, 1, 6, 7, 4, 2, 8, 8, 4, 4, 7,\n",
       "       7, 8, 9, 6, 1, 8, 6, 7, 7, 1, 4, 2, 5, 2, 6, 8, 1, 9, 2, 5, 5, 6,\n",
       "       1, 1, 6, 3, 4, 5, 8, 7, 2, 5, 8, 2])"
      ]
     },
     "execution_count": 84,
     "metadata": {},
     "output_type": "execute_result"
    }
   ],
   "source": [
    "# flatten a n dimensional matrix to 1 dimensional matrix\n",
    "n5.ravel()"
   ]
  },
  {
   "cell_type": "code",
   "execution_count": 85,
   "metadata": {},
   "outputs": [],
   "source": [
    "x = np.random.randint(1,10,(5,5))"
   ]
  },
  {
   "cell_type": "code",
   "execution_count": 86,
   "metadata": {},
   "outputs": [
    {
     "data": {
      "text/plain": [
       "array([[3, 6, 8, 6],\n",
       "       [6, 1, 8, 1],\n",
       "       [1, 6, 7, 9]])"
      ]
     },
     "execution_count": 86,
     "metadata": {},
     "output_type": "execute_result"
    }
   ],
   "source": [
    "n7 = np.random.randint(1,10,(3,4))\n",
    "n7"
   ]
  },
  {
   "cell_type": "code",
   "execution_count": 87,
   "metadata": {},
   "outputs": [
    {
     "name": "stdout",
     "output_type": "stream",
     "text": [
      "[5 8 1 4 9]\n"
     ]
    }
   ],
   "source": [
    "print(x[0])"
   ]
  },
  {
   "cell_type": "code",
   "execution_count": 88,
   "metadata": {},
   "outputs": [
    {
     "name": "stdout",
     "output_type": "stream",
     "text": [
      "[6 6 2 8 7]\n"
     ]
    }
   ],
   "source": [
    "print(x[-1])"
   ]
  },
  {
   "cell_type": "code",
   "execution_count": 89,
   "metadata": {},
   "outputs": [
    {
     "name": "stdout",
     "output_type": "stream",
     "text": [
      "[[1 4 9]\n",
      " [2 9 7]]\n"
     ]
    }
   ],
   "source": [
    "print(x[:2,2:])"
   ]
  },
  {
   "cell_type": "code",
   "execution_count": 90,
   "metadata": {},
   "outputs": [
    {
     "name": "stdout",
     "output_type": "stream",
     "text": [
      "[5 6 1 1 6]\n"
     ]
    }
   ],
   "source": [
    "print(x[:,0])"
   ]
  },
  {
   "cell_type": "code",
   "execution_count": 91,
   "metadata": {},
   "outputs": [],
   "source": [
    "x = np.random.randint(1,10,(5,5))"
   ]
  },
  {
   "cell_type": "code",
   "execution_count": 92,
   "metadata": {},
   "outputs": [
    {
     "data": {
      "text/plain": [
       "array([[3, 2, 4, 1, 6],\n",
       "       [5, 6, 6, 5, 7],\n",
       "       [9, 3, 1, 8, 8],\n",
       "       [5, 9, 2, 5, 8],\n",
       "       [3, 5, 5, 3, 5]])"
      ]
     },
     "execution_count": 92,
     "metadata": {},
     "output_type": "execute_result"
    }
   ],
   "source": [
    "x.transpose() # transpose the matrix, row to col and col to row"
   ]
  },
  {
   "cell_type": "code",
   "execution_count": 93,
   "metadata": {},
   "outputs": [
    {
     "data": {
      "text/plain": [
       "array([[3, 2, 4, 1, 6],\n",
       "       [5, 6, 6, 5, 7],\n",
       "       [9, 3, 1, 8, 8],\n",
       "       [5, 9, 2, 5, 8],\n",
       "       [3, 5, 5, 3, 5]])"
      ]
     },
     "execution_count": 93,
     "metadata": {},
     "output_type": "execute_result"
    }
   ],
   "source": [
    "x.T # transpose the matrix, row to column and column to row"
   ]
  },
  {
   "cell_type": "code",
   "execution_count": 94,
   "metadata": {},
   "outputs": [
    {
     "data": {
      "text/plain": [
       "array([4, 9, 8, 1, 7, 3, 6, 3, 2, 4])"
      ]
     },
     "execution_count": 94,
     "metadata": {},
     "output_type": "execute_result"
    }
   ],
   "source": [
    "n6"
   ]
  },
  {
   "cell_type": "code",
   "execution_count": 95,
   "metadata": {},
   "outputs": [
    {
     "data": {
      "text/plain": [
       "9"
      ]
     },
     "execution_count": 95,
     "metadata": {},
     "output_type": "execute_result"
    }
   ],
   "source": [
    "n6.max()"
   ]
  },
  {
   "cell_type": "code",
   "execution_count": 96,
   "metadata": {},
   "outputs": [
    {
     "data": {
      "text/plain": [
       "4.7"
      ]
     },
     "execution_count": 96,
     "metadata": {},
     "output_type": "execute_result"
    }
   ],
   "source": [
    "n6.mean()"
   ]
  },
  {
   "cell_type": "code",
   "execution_count": 97,
   "metadata": {},
   "outputs": [
    {
     "data": {
      "text/plain": [
       "47"
      ]
     },
     "execution_count": 97,
     "metadata": {},
     "output_type": "execute_result"
    }
   ],
   "source": [
    "n6.sum()"
   ]
  },
  {
   "cell_type": "code",
   "execution_count": 98,
   "metadata": {},
   "outputs": [
    {
     "data": {
      "text/plain": [
       "512"
      ]
     },
     "execution_count": 98,
     "metadata": {},
     "output_type": "execute_result"
    }
   ],
   "source": [
    "n5.sum() # sum of all values"
   ]
  },
  {
   "cell_type": "code",
   "execution_count": 99,
   "metadata": {},
   "outputs": [
    {
     "data": {
      "text/plain": [
       "array([136, 144, 126, 106])"
      ]
     },
     "execution_count": 99,
     "metadata": {},
     "output_type": "execute_result"
    }
   ],
   "source": [
    "n5.sum(axis = 0) # sum all values in each column"
   ]
  },
  {
   "cell_type": "code",
   "execution_count": 100,
   "metadata": {},
   "outputs": [
    {
     "data": {
      "text/plain": [
       "array([16, 16, 22, 17, 28, 20, 27, 24, 27, 24, 17, 17, 20, 19, 18, 22, 26,\n",
       "       24, 21, 13, 24, 18, 11, 24, 17])"
      ]
     },
     "execution_count": 100,
     "metadata": {},
     "output_type": "execute_result"
    }
   ],
   "source": [
    "n5.sum(axis = 1) # sum all values in each row"
   ]
  },
  {
   "cell_type": "code",
   "execution_count": 101,
   "metadata": {},
   "outputs": [
    {
     "name": "stdout",
     "output_type": "stream",
     "text": [
      "[4 9 8 1 7 3 6 3 2 4] 9 found at index 1\n",
      "[4 9 8 1 7 3 6 3 2 4] 9 found at index 3\n"
     ]
    }
   ],
   "source": [
    "print(n6, n6.max(), \"found at index\", n6.argmax())\n",
    "print(n6, n6.max(), \"found at index\", n6.argmin())"
   ]
  },
  {
   "cell_type": "code",
   "execution_count": 102,
   "metadata": {},
   "outputs": [
    {
     "data": {
      "text/plain": [
       "1"
      ]
     },
     "execution_count": 102,
     "metadata": {},
     "output_type": "execute_result"
    }
   ],
   "source": [
    "n6.argmax() # the index of the max value"
   ]
  },
  {
   "cell_type": "code",
   "execution_count": 103,
   "metadata": {},
   "outputs": [
    {
     "name": "stdout",
     "output_type": "stream",
     "text": [
      "[[40 32]\n",
      " [15 86]\n",
      " [31 10]]\n",
      "[[41 33]\n",
      " [11 56]\n",
      " [83 93]]\n",
      "[[95 44 54]\n",
      " [73 39 59]]\n"
     ]
    }
   ],
   "source": [
    "a = np.random.randint(1,100,(3,2))\n",
    "b = np.random.randint(1,100,(3,2))\n",
    "c = np.random.randint(1,100,(2,3))\n",
    "print(a)\n",
    "print(b)\n",
    "print(c)"
   ]
  },
  {
   "cell_type": "code",
   "execution_count": 104,
   "metadata": {},
   "outputs": [
    {
     "data": {
      "text/plain": [
       "array([[40, 32, 41, 33],\n",
       "       [15, 86, 11, 56],\n",
       "       [31, 10, 83, 93]])"
      ]
     },
     "execution_count": 104,
     "metadata": {},
     "output_type": "execute_result"
    }
   ],
   "source": [
    "np.hstack((a,b)) # horizontal stack"
   ]
  },
  {
   "cell_type": "code",
   "execution_count": 105,
   "metadata": {},
   "outputs": [
    {
     "data": {
      "text/plain": [
       "array([[40, 32],\n",
       "       [15, 86],\n",
       "       [31, 10],\n",
       "       [41, 33],\n",
       "       [11, 56],\n",
       "       [83, 93]])"
      ]
     },
     "execution_count": 105,
     "metadata": {},
     "output_type": "execute_result"
    }
   ],
   "source": [
    "np.vstack((a,b)) #vertical stack"
   ]
  },
  {
   "cell_type": "code",
   "execution_count": 106,
   "metadata": {},
   "outputs": [
    {
     "data": {
      "text/plain": [
       "array([[40, 32],\n",
       "       [15, 86],\n",
       "       [31, 10],\n",
       "       [95, 73],\n",
       "       [44, 39],\n",
       "       [54, 59]])"
      ]
     },
     "execution_count": 106,
     "metadata": {},
     "output_type": "execute_result"
    }
   ],
   "source": [
    "np.vstack((a, c.T))"
   ]
  },
  {
   "cell_type": "code",
   "execution_count": 107,
   "metadata": {},
   "outputs": [],
   "source": [
    "m = np.array([1,2,3,4,5,6,7,8,3,4,5,6,7,8,1,2,3,4,5,1,2,3,4,6,7,8,9,9,4,5,4,5,2,3,44,4,43,2,2,11,12,34,5,3,3,4,1,2,3,4,5,67])"
   ]
  },
  {
   "cell_type": "code",
   "execution_count": 108,
   "metadata": {},
   "outputs": [
    {
     "data": {
      "text/plain": [
       "array([False, False, False, False, False,  True,  True,  True, False,\n",
       "       False, False,  True,  True,  True, False, False, False, False,\n",
       "       False, False, False, False, False,  True,  True,  True,  True,\n",
       "        True, False, False, False, False, False, False,  True, False,\n",
       "        True, False, False,  True,  True,  True, False, False, False,\n",
       "       False, False, False, False, False, False,  True])"
      ]
     },
     "execution_count": 108,
     "metadata": {},
     "output_type": "execute_result"
    }
   ],
   "source": [
    "# boolean filter\n",
    "m > 5"
   ]
  },
  {
   "cell_type": "code",
   "execution_count": 109,
   "metadata": {},
   "outputs": [
    {
     "data": {
      "text/plain": [
       "array([ 6,  7,  8,  6,  7,  8,  6,  7,  8,  9,  9, 44, 43, 11, 12, 34, 67])"
      ]
     },
     "execution_count": 109,
     "metadata": {},
     "output_type": "execute_result"
    }
   ],
   "source": [
    "m[m > 5]"
   ]
  },
  {
   "cell_type": "code",
   "execution_count": 110,
   "metadata": {},
   "outputs": [
    {
     "data": {
      "text/plain": [
       "array([ 1,  3,  4,  5,  6,  7,  8,  3,  4,  5,  6,  7,  8,  1,  3,  4,  5,\n",
       "        1,  3,  4,  6,  7,  8,  9,  9,  4,  5,  4,  5,  3, 44,  4, 43, 11,\n",
       "       12, 34,  5,  3,  3,  4,  1,  3,  4,  5, 67])"
      ]
     },
     "execution_count": 110,
     "metadata": {},
     "output_type": "execute_result"
    }
   ],
   "source": [
    "m[m != 2]"
   ]
  },
  {
   "cell_type": "code",
   "execution_count": 111,
   "metadata": {},
   "outputs": [
    {
     "data": {
      "text/plain": [
       "array([3, 4, 5, 6, 7, 3, 4, 5, 6, 7, 3, 4, 5, 3, 4, 6, 7, 4, 5, 4, 5, 3,\n",
       "       4, 5, 3, 3, 4, 3, 4, 5])"
      ]
     },
     "execution_count": 111,
     "metadata": {},
     "output_type": "execute_result"
    }
   ],
   "source": [
    "# in range of 2 to 8\n",
    "m[(m > 2) & (m < 8)]"
   ]
  },
  {
   "cell_type": "code",
   "execution_count": 112,
   "metadata": {},
   "outputs": [],
   "source": [
    "# user created numpy matrix\n",
    "mat = [ ]\n",
    "for i in range(10):\n",
    "    mat.append(int(input('enter value')))\n",
    "mat = np.array(mat)"
   ]
  },
  {
   "cell_type": "code",
   "execution_count": 113,
   "metadata": {},
   "outputs": [
    {
     "name": "stdout",
     "output_type": "stream",
     "text": [
      "[1 2 3 4 5 6 7 8 9 3] (10,)\n"
     ]
    }
   ],
   "source": [
    "print(mat, mat.shape)"
   ]
  },
  {
   "cell_type": "code",
   "execution_count": 114,
   "metadata": {},
   "outputs": [
    {
     "name": "stdout",
     "output_type": "stream",
     "text": [
      "[[4 5 6]\n",
      " [7 3 4]] (2, 3)\n"
     ]
    }
   ],
   "source": [
    "# user created numpy matrix\n",
    "mat = []\n",
    "for i in range(2):\n",
    "    smat = []\n",
    "    for j in range(3):\n",
    "        smat.append(int(input('enter value')))\n",
    "    mat.append(smat)\n",
    "mat = np.array(mat)\n",
    "print(mat, mat.shape)"
   ]
  },
  {
   "cell_type": "code",
   "execution_count": null,
   "metadata": {},
   "outputs": [],
   "source": []
  }
 ],
 "metadata": {
  "kernelspec": {
   "display_name": "Python 3.9.12 ('base2')",
   "language": "python",
   "name": "python3"
  },
  "language_info": {
   "codemirror_mode": {
    "name": "ipython",
    "version": 3
   },
   "file_extension": ".py",
   "mimetype": "text/x-python",
   "name": "python",
   "nbconvert_exporter": "python",
   "pygments_lexer": "ipython3",
   "version": "3.9.12"
  },
  "orig_nbformat": 4,
  "vscode": {
   "interpreter": {
    "hash": "6b32ee066d93f2175888e74d9e61be5a3533c535bad890872fbb623498e4433b"
   }
  }
 },
 "nbformat": 4,
 "nbformat_minor": 2
}
