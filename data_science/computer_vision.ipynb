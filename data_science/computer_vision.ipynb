{
 "cells": [
  {
   "cell_type": "markdown",
   "metadata": {},
   "source": [
    "### Computer Vision\n",
    "\n",
    "pip install opencv-contrib-python\n",
    "pip install mediapipe"
   ]
  },
  {
   "cell_type": "code",
   "execution_count": null,
   "metadata": {},
   "outputs": [],
   "source": [
    "import cv2"
   ]
  },
  {
   "cell_type": "markdown",
   "metadata": {},
   "source": [
    "video processing"
   ]
  },
  {
   "cell_type": "code",
   "execution_count": null,
   "metadata": {},
   "outputs": [],
   "source": [
    "video = cv2.VideoCapture('sample.mp4')\n",
    "while True:\n",
    "    state, frame = video.read()\n",
    "    if not state:\n",
    "        break\n",
    "    cv2.imshow('video output', frame)\n",
    "    if cv2.waitKey(1) == 27: # esc button ka numerical value \n",
    "        break\n",
    "video.release()\n",
    "cv2.destroyAllWindows()"
   ]
  },
  {
   "cell_type": "code",
   "execution_count": null,
   "metadata": {},
   "outputs": [],
   "source": [
    "def webcam(webcam_idx = 0):\n",
    "    video = cv2.VideoCapture(webcam_idx)\n",
    "    while True:\n",
    "        state, frame = video.read()\n",
    "        if not state:\n",
    "            break\n",
    "        cv2.imshow('video output', frame)\n",
    "        if cv2.waitKey(1) == 27: # esc button ka numerical value \n",
    "            break\n",
    "    video.release()\n",
    "    cv2.destroyAllWindows()"
   ]
  },
  {
   "cell_type": "code",
   "execution_count": null,
   "metadata": {},
   "outputs": [],
   "source": [
    "webcam()"
   ]
  },
  {
   "cell_type": "code",
   "execution_count": null,
   "metadata": {},
   "outputs": [],
   "source": [
    "def recorder(webcam_idx=0, recording_file = 'recording.avi'):\n",
    "    video = cv2.VideoCapture(webcam_idx)\n",
    "    fourcc = cv2.VideoWriter_fourcc(*'XVID')\n",
    "    out = cv2.VideoWriter(recording_file, fourcc, 20.0, (640,  480))\n",
    "    while True:\n",
    "        state, frame = video.read()\n",
    "        if not state: break\n",
    "        cv2.imshow('video camera',frame)\n",
    "        out.write(frame)\n",
    "        if cv2.waitKey(1) == 27:\n",
    "            break\n",
    "    out.release() # save file\n",
    "    video.release()\n",
    "    cv2.destroyAllWindows()"
   ]
  },
  {
   "cell_type": "code",
   "execution_count": null,
   "metadata": {},
   "outputs": [],
   "source": [
    "recorder(recording_file='example_webcam.avi')"
   ]
  },
  {
   "cell_type": "code",
   "execution_count": null,
   "metadata": {},
   "outputs": [],
   "source": [
    "def webcam_w_info(webcam_idx = 0):\n",
    "    video = cv2.VideoCapture(webcam_idx)\n",
    "    while True:\n",
    "        state, frame = video.read()\n",
    "        if not state:\n",
    "            break\n",
    "        cv2.rectangle(frame, (0,0), (640,50), (255,255,255), -1)\n",
    "        cv2.putText(frame,\"webcam output from laptop\",(100,30),cv2.FONT_HERSHEY_SIMPLEX,1,(0,0,0))\n",
    "        cv2.putText(frame,'camera 0', (10,450), cv2.FONT_HERSHEY_SIMPLEX, .5, (0,255,255))\n",
    "        cv2.imshow('video output', frame)\n",
    "        if cv2.waitKey(1) == 27: # esc button ka numerical value \n",
    "            break\n",
    "    video.release()\n",
    "    cv2.destroyAllWindows()\n",
    "\n",
    "# calling\n",
    "webcam_w_info()"
   ]
  },
  {
   "cell_type": "code",
   "execution_count": null,
   "metadata": {},
   "outputs": [],
   "source": [
    "import mediapipe as mp"
   ]
  },
  {
   "cell_type": "code",
   "execution_count": 21,
   "metadata": {},
   "outputs": [
    {
     "ename": "KeyboardInterrupt",
     "evalue": "",
     "output_type": "error",
     "traceback": [
      "\u001b[1;31m---------------------------------------------------------------------------\u001b[0m",
      "\u001b[1;31mKeyboardInterrupt\u001b[0m                         Traceback (most recent call last)",
      "\u001b[1;32mc:\\Users\\ASUS\\OneDrive\\Documents\\python\\data_science\\computer_vision.ipynb Cell 11\u001b[0m in \u001b[0;36m<cell line: 26>\u001b[1;34m()\u001b[0m\n\u001b[0;32m     <a href='vscode-notebook-cell:/c%3A/Users/ASUS/OneDrive/Documents/python/data_science/computer_vision.ipynb#X16sZmlsZQ%3D%3D?line=22'>23</a>\u001b[0m     cv2\u001b[39m.\u001b[39mdestroyAllWindows()\n\u001b[0;32m     <a href='vscode-notebook-cell:/c%3A/Users/ASUS/OneDrive/Documents/python/data_science/computer_vision.ipynb#X16sZmlsZQ%3D%3D?line=24'>25</a>\u001b[0m \u001b[39m# calling the fun\u001b[39;00m\n\u001b[1;32m---> <a href='vscode-notebook-cell:/c%3A/Users/ASUS/OneDrive/Documents/python/data_science/computer_vision.ipynb#X16sZmlsZQ%3D%3D?line=25'>26</a>\u001b[0m face_detection()\n",
      "\u001b[1;32mc:\\Users\\ASUS\\OneDrive\\Documents\\python\\data_science\\computer_vision.ipynb Cell 11\u001b[0m in \u001b[0;36mface_detection\u001b[1;34m(webcam_idx)\u001b[0m\n\u001b[0;32m     <a href='vscode-notebook-cell:/c%3A/Users/ASUS/OneDrive/Documents/python/data_science/computer_vision.ipynb#X16sZmlsZQ%3D%3D?line=10'>11</a>\u001b[0m image\u001b[39m.\u001b[39mflags\u001b[39m.\u001b[39mwriteable \u001b[39m=\u001b[39m \u001b[39mFalse\u001b[39;00m\n\u001b[0;32m     <a href='vscode-notebook-cell:/c%3A/Users/ASUS/OneDrive/Documents/python/data_science/computer_vision.ipynb#X16sZmlsZQ%3D%3D?line=11'>12</a>\u001b[0m image \u001b[39m=\u001b[39m cv2\u001b[39m.\u001b[39mcvtColor(image, cv2\u001b[39m.\u001b[39mCOLOR_BGR2RGB)\n\u001b[1;32m---> <a href='vscode-notebook-cell:/c%3A/Users/ASUS/OneDrive/Documents/python/data_science/computer_vision.ipynb#X16sZmlsZQ%3D%3D?line=12'>13</a>\u001b[0m results \u001b[39m=\u001b[39m face_detection\u001b[39m.\u001b[39;49mprocess(image)\n\u001b[0;32m     <a href='vscode-notebook-cell:/c%3A/Users/ASUS/OneDrive/Documents/python/data_science/computer_vision.ipynb#X16sZmlsZQ%3D%3D?line=13'>14</a>\u001b[0m image\u001b[39m.\u001b[39mflags\u001b[39m.\u001b[39mwriteable \u001b[39m=\u001b[39m \u001b[39mTrue\u001b[39;00m\n\u001b[0;32m     <a href='vscode-notebook-cell:/c%3A/Users/ASUS/OneDrive/Documents/python/data_science/computer_vision.ipynb#X16sZmlsZQ%3D%3D?line=14'>15</a>\u001b[0m image \u001b[39m=\u001b[39m cv2\u001b[39m.\u001b[39mcvtColor(image, cv2\u001b[39m.\u001b[39mCOLOR_RGB2BGR)\n",
      "File \u001b[1;32mc:\\Users\\ASUS\\Anaconda2\\envs\\base2\\lib\\site-packages\\mediapipe\\python\\solutions\\face_detection.py:105\u001b[0m, in \u001b[0;36mFaceDetection.process\u001b[1;34m(self, image)\u001b[0m\n\u001b[0;32m     90\u001b[0m \u001b[39mdef\u001b[39;00m \u001b[39mprocess\u001b[39m(\u001b[39mself\u001b[39m, image: np\u001b[39m.\u001b[39mndarray) \u001b[39m-\u001b[39m\u001b[39m>\u001b[39m NamedTuple:\n\u001b[0;32m     91\u001b[0m   \u001b[39m\"\"\"Processes an RGB image and returns a list of the detected face location data.\u001b[39;00m\n\u001b[0;32m     92\u001b[0m \n\u001b[0;32m     93\u001b[0m \u001b[39m  Args:\u001b[39;00m\n\u001b[1;32m   (...)\u001b[0m\n\u001b[0;32m    102\u001b[0m \u001b[39m    detected face location data.\u001b[39;00m\n\u001b[0;32m    103\u001b[0m \u001b[39m  \"\"\"\u001b[39;00m\n\u001b[1;32m--> 105\u001b[0m   \u001b[39mreturn\u001b[39;00m \u001b[39msuper\u001b[39;49m()\u001b[39m.\u001b[39;49mprocess(input_data\u001b[39m=\u001b[39;49m{\u001b[39m'\u001b[39;49m\u001b[39mimage\u001b[39;49m\u001b[39m'\u001b[39;49m: image})\n",
      "File \u001b[1;32mc:\\Users\\ASUS\\Anaconda2\\envs\\base2\\lib\\site-packages\\mediapipe\\python\\solution_base.py:364\u001b[0m, in \u001b[0;36mSolutionBase.process\u001b[1;34m(self, input_data)\u001b[0m\n\u001b[0;32m    358\u001b[0m   \u001b[39melse\u001b[39;00m:\n\u001b[0;32m    359\u001b[0m     \u001b[39mself\u001b[39m\u001b[39m.\u001b[39m_graph\u001b[39m.\u001b[39madd_packet_to_input_stream(\n\u001b[0;32m    360\u001b[0m         stream\u001b[39m=\u001b[39mstream_name,\n\u001b[0;32m    361\u001b[0m         packet\u001b[39m=\u001b[39m\u001b[39mself\u001b[39m\u001b[39m.\u001b[39m_make_packet(input_stream_type,\n\u001b[0;32m    362\u001b[0m                                  data)\u001b[39m.\u001b[39mat(\u001b[39mself\u001b[39m\u001b[39m.\u001b[39m_simulated_timestamp))\n\u001b[1;32m--> 364\u001b[0m \u001b[39mself\u001b[39;49m\u001b[39m.\u001b[39;49m_graph\u001b[39m.\u001b[39;49mwait_until_idle()\n\u001b[0;32m    365\u001b[0m \u001b[39m# Create a NamedTuple object where the field names are mapping to the graph\u001b[39;00m\n\u001b[0;32m    366\u001b[0m \u001b[39m# output stream names.\u001b[39;00m\n\u001b[0;32m    367\u001b[0m solution_outputs \u001b[39m=\u001b[39m collections\u001b[39m.\u001b[39mnamedtuple(\n\u001b[0;32m    368\u001b[0m     \u001b[39m'\u001b[39m\u001b[39mSolutionOutputs\u001b[39m\u001b[39m'\u001b[39m, \u001b[39mself\u001b[39m\u001b[39m.\u001b[39m_output_stream_type_info\u001b[39m.\u001b[39mkeys())\n",
      "\u001b[1;31mKeyboardInterrupt\u001b[0m: "
     ]
    }
   ],
   "source": [
    "def face_detection(webcam_idx=0):\n",
    "    mp_face_detection = mp.solutions.face_detection\n",
    "    mp_drawing = mp.solutions.drawing_utils\n",
    "    cap = cv2.VideoCapture(webcam_idx)\n",
    "    with mp_face_detection.FaceDetection(model_selection=0, min_detection_confidence=0.7) as face_detection:\n",
    "        while cap.isOpened():\n",
    "            success, image = cap.read()\n",
    "            if not success:\n",
    "                print(\"Ignoring empty camera frame.\")\n",
    "                continue\n",
    "            image.flags.writeable = False\n",
    "            image = cv2.cvtColor(image, cv2.COLOR_BGR2RGB)\n",
    "            results = face_detection.process(image)\n",
    "            image.flags.writeable = True\n",
    "            image = cv2.cvtColor(image, cv2.COLOR_RGB2BGR)\n",
    "            if results.detections:\n",
    "                for detection in results.detections:\n",
    "                    mp_drawing.draw_detection(image, detection)\n",
    "            cv2.imshow('MediaPipe Face Detection', cv2.flip(image, 1))\n",
    "            if cv2.waitKey(1) == 27:\n",
    "                break\n",
    "    cap.release()\n",
    "    cv2.destroyAllWindows()\n",
    "\n",
    "# calling the fun\n",
    "face_detection()"
   ]
  },
  {
   "cell_type": "code",
   "execution_count": null,
   "metadata": {},
   "outputs": [],
   "source": [
    "\n"
   ]
  }
 ],
 "metadata": {
  "kernelspec": {
   "display_name": "Python 3.9.12 ('base2')",
   "language": "python",
   "name": "python3"
  },
  "language_info": {
   "codemirror_mode": {
    "name": "ipython",
    "version": 3
   },
   "file_extension": ".py",
   "mimetype": "text/x-python",
   "name": "python",
   "nbconvert_exporter": "python",
   "pygments_lexer": "ipython3",
   "version": "3.9.12"
  },
  "orig_nbformat": 4,
  "vscode": {
   "interpreter": {
    "hash": "6b32ee066d93f2175888e74d9e61be5a3533c535bad890872fbb623498e4433b"
   }
  }
 },
 "nbformat": 4,
 "nbformat_minor": 2
}
