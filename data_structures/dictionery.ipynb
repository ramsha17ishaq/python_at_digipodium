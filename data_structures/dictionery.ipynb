{
 "cells": [
  {
   "cell_type": "markdown",
   "metadata": {},
   "source": [
    "### why do we need dict ?"
   ]
  },
  {
   "cell_type": "code",
   "execution_count": 3,
   "metadata": {},
   "outputs": [],
   "source": [
    "marks_list_v1 = [['alan',30,'brian',50,'charles',60,'david',70,'eric',80,'frank',90]]\n",
    "marks_list_v2 = [['alan',30,'brian',50,'charles',60,'david',70,'eric',80,'frank',90]]\n",
    "marks_list_v3 = [['alan',30,'brian',50,'charles',60,'david',70,'']]"
   ]
  },
  {
   "cell_type": "markdown",
   "metadata": {},
   "source": [
    "### list  are ineffiecient for searching and storing meaning full data\n",
    "# dictionery is a collection of key value pairs"
   ]
  },
  {
   "cell_type": "code",
   "execution_count": 1,
   "metadata": {},
   "outputs": [
    {
     "name": "stdout",
     "output_type": "stream",
     "text": [
      "{'alan': 30, 'brian': 50, 'charles': 60, 'david': 70, 'eric': 80, 'frank': 90}\n"
     ]
    }
   ],
   "source": [
    "marks_dict = {'alan': 30,'brian': 50,'charles': 60,'david': 70,'eric': 80,'frank': 90}\n",
    "print(marks_dict)"
   ]
  },
  {
   "cell_type": "code",
   "execution_count": 2,
   "metadata": {},
   "outputs": [
    {
     "name": "stdout",
     "output_type": "stream",
     "text": [
      "charles got 60\n",
      "we are adding grace marks for alan\n",
      "new marks for alan is  45\n"
     ]
    }
   ],
   "source": [
    "print(\"charles got\",marks_dict['charles'])\n",
    "print(\"we are adding grace marks for alan\")\n",
    "marks_dict['alan'] = 45\n",
    "print('new marks for alan is ', marks_dict['alan'])"
   ]
  },
  {
   "cell_type": "code",
   "execution_count": 22,
   "metadata": {},
   "outputs": [],
   "source": [
    "marks_dict_v2 = {\n",
    "    'student 1': {\n",
    "        'name': 'alan',\n",
    "        'cgpa': 8.3\n",
    "    },\n",
    "    'student 2': {\n",
    "        'name': 'brian',\n",
    "        'cgpa': 7.5\n",
    "\n",
    "    },\n",
    "    'student 3': {\n",
    "        'name': 'charles',\n",
    "        'cgpa': 9.0\n",
    "    },\n",
    "}"
   ]
  },
  {
   "cell_type": "code",
   "execution_count": 23,
   "metadata": {},
   "outputs": [
    {
     "name": "stdout",
     "output_type": "stream",
     "text": [
      "alan\n"
     ]
    }
   ],
   "source": [
    "print(marks_dict_v2['student 1']['name'])"
   ]
  },
  {
   "cell_type": "code",
   "execution_count": 24,
   "metadata": {},
   "outputs": [
    {
     "name": "stdout",
     "output_type": "stream",
     "text": [
      "8.3\n"
     ]
    }
   ],
   "source": [
    "print(marks_dict_v2['student 1']['cgpa'])"
   ]
  },
  {
   "cell_type": "code",
   "execution_count": 25,
   "metadata": {},
   "outputs": [
    {
     "name": "stdout",
     "output_type": "stream",
     "text": [
      "{'name': 'alan', 'cgpa': 8.3}\n"
     ]
    }
   ],
   "source": [
    "print(marks_dict_v2['student 1'])"
   ]
  },
  {
   "cell_type": "code",
   "execution_count": 62,
   "metadata": {},
   "outputs": [],
   "source": [
    "# create a dictionery to store movie name, year, rating and overview\n",
    "movies = {\n",
    "    'spider man': { \n",
    "    'year': '2022',\n",
    "    'rating': 9.5,\n",
    "    'overview': 'its complicated'\n",
    "    },\n",
    "    'doctor strange': {\n",
    "    'year': '2018',\n",
    "    'rating': '8.9',\n",
    "    'overview': 'its complicated'\n",
    "    },\n",
    "}"
   ]
  },
  {
   "cell_type": "code",
   "execution_count": 63,
   "metadata": {},
   "outputs": [
    {
     "name": "stdout",
     "output_type": "stream",
     "text": [
      "{'year': '2022', 'rating': 9.5, 'overview': 'its complicated'}\n"
     ]
    }
   ],
   "source": [
    "print(movies['spider man'])"
   ]
  },
  {
   "cell_type": "code",
   "execution_count": 28,
   "metadata": {},
   "outputs": [
    {
     "name": "stdout",
     "output_type": "stream",
     "text": [
      "jack\n"
     ]
    }
   ],
   "source": [
    "my_dict = {'name': 'jack','age': 26}\n",
    "print(my_dict['name'])"
   ]
  },
  {
   "cell_type": "code",
   "execution_count": 29,
   "metadata": {},
   "outputs": [
    {
     "name": "stdout",
     "output_type": "stream",
     "text": [
      "26\n"
     ]
    }
   ],
   "source": [
    "print(my_dict.get('age'))"
   ]
  },
  {
   "cell_type": "code",
   "execution_count": 30,
   "metadata": {},
   "outputs": [
    {
     "name": "stdout",
     "output_type": "stream",
     "text": [
      "None\n"
     ]
    }
   ],
   "source": [
    "print(my_dict.get('address'))"
   ]
  },
  {
   "cell_type": "code",
   "execution_count": 55,
   "metadata": {},
   "outputs": [],
   "source": [
    "square = {1: 1, 2: 4, 3: 9, 4: 16, 5: 25}"
   ]
  },
  {
   "cell_type": "code",
   "execution_count": 56,
   "metadata": {},
   "outputs": [
    {
     "name": "stdout",
     "output_type": "stream",
     "text": [
      "16\n"
     ]
    }
   ],
   "source": [
    "print(square.pop(4))"
   ]
  },
  {
   "cell_type": "code",
   "execution_count": 57,
   "metadata": {},
   "outputs": [
    {
     "name": "stdout",
     "output_type": "stream",
     "text": [
      "(5, 25)\n"
     ]
    }
   ],
   "source": [
    "print(square.popitem())"
   ]
  },
  {
   "cell_type": "code",
   "execution_count": 58,
   "metadata": {},
   "outputs": [
    {
     "name": "stdout",
     "output_type": "stream",
     "text": [
      "1\n",
      "2\n",
      "3\n"
     ]
    }
   ],
   "source": [
    "for i in square:\n",
    "    print(i)"
   ]
  },
  {
   "cell_type": "code",
   "execution_count": 59,
   "metadata": {},
   "outputs": [
    {
     "name": "stdout",
     "output_type": "stream",
     "text": [
      "1\n",
      "4\n",
      "9\n"
     ]
    }
   ],
   "source": [
    "for i in square:\n",
    "    print(square[i])"
   ]
  },
  {
   "cell_type": "code",
   "execution_count": 60,
   "metadata": {},
   "outputs": [
    {
     "name": "stdout",
     "output_type": "stream",
     "text": [
      "1 1\n",
      "2 4\n",
      "3 9\n"
     ]
    }
   ],
   "source": [
    "for k,v in square.items():\n",
    "    print(k,v)"
   ]
  },
  {
   "cell_type": "code",
   "execution_count": 65,
   "metadata": {},
   "outputs": [
    {
     "name": "stdout",
     "output_type": "stream",
     "text": [
      "spider man\n",
      "-------\n",
      "year => 2022\n",
      "rating => 9.5\n",
      "overview => its complicated\n",
      "---------\n",
      "doctor strange\n",
      "-------\n",
      "year => 2018\n",
      "rating => 8.9\n",
      "overview => its complicated\n",
      "---------\n"
     ]
    }
   ],
   "source": [
    "for name,rating in movies.items():\n",
    "    print(name)\n",
    "    print('-------')\n",
    "    for k,v in rating.items():\n",
    "        print(k,'=>',v)\n",
    "    print('---------') "
   ]
  },
  {
   "cell_type": "code",
   "execution_count": null,
   "metadata": {},
   "outputs": [],
   "source": []
  }
 ],
 "metadata": {
  "kernelspec": {
   "display_name": "Python 3.9.12 ('base2')",
   "language": "python",
   "name": "python3"
  },
  "language_info": {
   "codemirror_mode": {
    "name": "ipython",
    "version": 3
   },
   "file_extension": ".py",
   "mimetype": "text/x-python",
   "name": "python",
   "nbconvert_exporter": "python",
   "pygments_lexer": "ipython3",
   "version": "3.9.12"
  },
  "orig_nbformat": 4,
  "vscode": {
   "interpreter": {
    "hash": "6b32ee066d93f2175888e74d9e61be5a3533c535bad890872fbb623498e4433b"
   }
  }
 },
 "nbformat": 4,
 "nbformat_minor": 2
}
