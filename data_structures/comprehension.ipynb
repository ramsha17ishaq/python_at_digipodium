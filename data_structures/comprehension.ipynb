{
 "cells": [
  {
   "cell_type": "code",
   "execution_count": 4,
   "metadata": {},
   "outputs": [
    {
     "name": "stdout",
     "output_type": "stream",
     "text": [
      "[4, 16, 25, 64, 81, 100]\n"
     ]
    }
   ],
   "source": [
    "x = [2,4,5,8,9,10]\n",
    "x2 = []\n",
    "for i in x:\n",
    "    sqr = i**2\n",
    "    x2.append(sqr)\n",
    "print(x2)"
   ]
  },
  {
   "cell_type": "code",
   "execution_count": 5,
   "metadata": {},
   "outputs": [
    {
     "name": "stdout",
     "output_type": "stream",
     "text": [
      "[4, 16, 25, 64, 81, 100]\n"
     ]
    }
   ],
   "source": [
    "x3 = [ i ** 2 for i in x]\n",
    "print(x3)"
   ]
  },
  {
   "cell_type": "markdown",
   "metadata": {},
   "source": [
    "# comprehension -> when you want to create a list from existing list #\n",
    "** new list = [operation loop condition] **"
   ]
  },
  {
   "cell_type": "code",
   "execution_count": 7,
   "metadata": {},
   "outputs": [
    {
     "name": "stdout",
     "output_type": "stream",
     "text": [
      "[2, 4, 6, 8, 8]\n"
     ]
    }
   ],
   "source": [
    "a = [2,4,5,6,7,8,9,1,3,8]\n",
    "even_a = [i for i in a if i%2 == 0]\n",
    "print(even_a)"
   ]
  },
  {
   "cell_type": "code",
   "execution_count": 21,
   "metadata": {},
   "outputs": [
    {
     "name": "stdout",
     "output_type": "stream",
     "text": [
      "['RI', 'AS', 'AK', 'AS']\n"
     ]
    }
   ],
   "source": [
    "names = ['Ramsha Ishaq','Anima Shukla','Aditya Kumar','Aryan Saini']\n",
    "init_names = [f'{n.split()[0][0]}{n.split()[-1][0]}' for n in names]\n",
    "print(init_names)"
   ]
  },
  {
   "cell_type": "code",
   "execution_count": 22,
   "metadata": {},
   "outputs": [
    {
     "name": "stdout",
     "output_type": "stream",
     "text": [
      "[2, 3, 4, 5, 6, 7] {64, 8, 343, 216, 27, 125}\n"
     ]
    }
   ],
   "source": [
    "x = [2,3,4,5,6,7]\n",
    "x3 = {i**3 for i in x}\n",
    "print(x,x3)"
   ]
  },
  {
   "cell_type": "code",
   "execution_count": 11,
   "metadata": {},
   "outputs": [],
   "source": [
    "rainfall = {\n",
    "    '2001':350,\n",
    "    '2002':420,\n",
    "    '2003':510,\n",
    "    '2004':600,\n",
    "    '2005':700,\n",
    "}"
   ]
  },
  {
   "cell_type": "code",
   "execution_count": 15,
   "metadata": {},
   "outputs": [],
   "source": [
    "rainfall_norm = {i[0]:i[1]/700 for i in rainfall.items()}"
   ]
  },
  {
   "cell_type": "code",
   "execution_count": 17,
   "metadata": {},
   "outputs": [
    {
     "data": {
      "text/plain": [
       "{'2001': 0.5,\n",
       " '2002': 0.6,\n",
       " '2003': 0.7285714285714285,\n",
       " '2004': 0.8571428571428571,\n",
       " '2005': 1.0}"
      ]
     },
     "execution_count": 17,
     "metadata": {},
     "output_type": "execute_result"
    }
   ],
   "source": [
    "rainfall_norm"
   ]
  },
  {
   "cell_type": "markdown",
   "metadata": {},
   "source": [
    "** wap that takes a list of numbers and then generate a list of all even numbers and odd numbers separated using comprehension **"
   ]
  },
  {
   "cell_type": "code",
   "execution_count": 20,
   "metadata": {},
   "outputs": [
    {
     "name": "stdout",
     "output_type": "stream",
     "text": [
      "[2, 4, 6, 8, 10]\n",
      "[1, 3, 5, 7, 9]\n"
     ]
    }
   ],
   "source": [
    "x = [1,2,3,4,5,6,7,8,9,10]\n",
    "x2_even = [i for i in x if i%2 == 0]\n",
    "x3_odd = [i for i in x if i%2 != 0]\n",
    "print(x2_even)\n",
    "print(x3_odd)"
   ]
  },
  {
   "cell_type": "code",
   "execution_count": null,
   "metadata": {},
   "outputs": [],
   "source": []
  }
 ],
 "metadata": {
  "kernelspec": {
   "display_name": "Python 3.9.12 ('base2')",
   "language": "python",
   "name": "python3"
  },
  "language_info": {
   "codemirror_mode": {
    "name": "ipython",
    "version": 3
   },
   "file_extension": ".py",
   "mimetype": "text/x-python",
   "name": "python",
   "nbconvert_exporter": "python",
   "pygments_lexer": "ipython3",
   "version": "3.9.12"
  },
  "orig_nbformat": 4,
  "vscode": {
   "interpreter": {
    "hash": "6b32ee066d93f2175888e74d9e61be5a3533c535bad890872fbb623498e4433b"
   }
  }
 },
 "nbformat": 4,
 "nbformat_minor": 2
}
